{
 "cells": [
  {
   "cell_type": "code",
   "execution_count": 5,
   "id": "91f4abdf",
   "metadata": {},
   "outputs": [],
   "source": [
    "import streamlit as st\n",
    "import pandas as pd\n",
    "import numpy as np\n",
    "import json\n",
    "import tensorflow as tf\n",
    "import matplotlib.pyplot as plt"
   ]
  },
  {
   "cell_type": "code",
   "execution_count": 7,
   "id": "361bc198",
   "metadata": {},
   "outputs": [
    {
     "name": "stderr",
     "output_type": "stream",
     "text": [
      "2025-08-07 18:38:41.801 \n",
      "  \u001b[33m\u001b[1mWarning:\u001b[0m to view this Streamlit app on a browser, run it with the following\n",
      "  command:\n",
      "\n",
      "    streamlit run C:\\Users\\kian2\\AppData\\Roaming\\Python\\Python310\\site-packages\\ipykernel_launcher.py [ARGUMENTS]\n"
     ]
    },
    {
     "data": {
      "text/plain": [
       "DeltaGenerator()"
      ]
     },
     "execution_count": 7,
     "metadata": {},
     "output_type": "execute_result"
    }
   ],
   "source": [
    "model = tf.keras.models.load_model('flightPathModel')\n",
    "\n",
    "with open('flightPathModel/columns.json') as f:\n",
    "    columns = json.load(f)\n",
    "\n",
    "st.title('🚀 Launch Path Prediction')"
   ]
  },
  {
   "cell_type": "code",
   "execution_count": 11,
   "id": "156dfb8c",
   "metadata": {},
   "outputs": [],
   "source": [
    "noseType = st.selectbox('Nose Type', ['Conical', 'Ogive', 'Triangular', 'Trapezoidal', 'Grid', 'None'])\n",
    "finShape = st.selectbox('Fin Shape', ['Grid', 'Trapezoidal', 'Triangular', 'None'])\n",
    "noseLength = st.number_input('Nose Length (m)', 0.0)\n",
    "bodyLength = st.number_input('Body Length (m)', 0.0)\n",
    "bodyDia = st.number_input('Body Diameter (m)', 0.0)\n",
    "finCount = st.number_input('Fin Count', 0)\n",
    "finArea = st.number_input('Fin Area (m²)', 0.0)\n",
    "stageCount = st.number_input('Number of Stages', 1)\n",
    "totalMass = st.number_input('Total Mass (kg)', 0.0)\n",
    "fuelMass = st.number_input('Fuel Mass (kg)', 0.0)\n",
    "thrust = st.number_input('Thrust (N)', 0.0)\n",
    "burnTime = st.number_input('Burn Time (s)', 0.0)\n",
    "isp = st.number_input('Specific Impulse (s)', 0.0)\n",
    "drag = st.number_input('Drag Coefficient', 0.0)\n",
    "angle = st.number_input('Launch Angle (°)', 0.0)\n",
    "wind = st.number_input('Wind Speed (m/s)', 0.0)"
   ]
  },
  {
   "cell_type": "code",
   "execution_count": 12,
   "id": "9165e921",
   "metadata": {},
   "outputs": [],
   "source": [
    "def predict():\n",
    "    inputData = pd.DataFrame([{\n",
    "        'NoseType': noseType,\n",
    "        'FinShape': finShape,\n",
    "        'NoseLength': noseLength,\n",
    "        'BodyLength': bodyLength,\n",
    "        'BodyDiameter': bodyDia,\n",
    "        'FinCount': finCount,\n",
    "        'FinArea': finArea,\n",
    "        'StageCount': stageCount,\n",
    "        'TotalMass': totalMass,\n",
    "        'FuelMass': fuelMass,\n",
    "        'Thrust': thrust,\n",
    "        'BurnTime': burnTime,\n",
    "        'ISP': isp,\n",
    "        'DragCoefficient': drag,\n",
    "        'LaunchAngle': angle,\n",
    "        'WindSpeed': wind,\n",
    "\n",
    "        **{f'NoseType_{nt}': 1 if nt == noseType else 0\n",
    "            for nt in ['Conical', 'Ogive', 'Triangular', 'Trapezoidal', 'Grid', 'None']},\n",
    "        **{f'FinShape_{fs}': 1 if fs == finShape else 0\n",
    "            for fs in ['Grid', 'Trapezoidal', 'Triangular', 'None']}\n",
    "    }])\n",
    "\n",
    "    inputData = inputData.reindex(columns=columns, fill_value=0)\n",
    "\n",
    "    prediction = model.predict(inputData)[0]\n",
    "    peakAlt, tToPeak, totalTime = prediction\n",
    "\n",
    "    t = np.linspace(0, totalTime, 200)\n",
    "    h = -4 * peakAlt / (tToPeak ** 2) * (t - tToPeak) ** 2 + peakAlt\n",
    "    h = np.maximum(h, 0) \n",
    "\n",
    "    maxHrizontalDistance = 0.5 * thrust / totalMass * totalTime ** 2 * 0.001\n",
    "    x = np.linspace(0, maxHrizontalDistance, 200)\n",
    "\n",
    "    fig, ax = plt.subplots()\n",
    "    ax.plot(x, h)\n",
    "    ax.set_xlabel('Horizontal Distance (m)')\n",
    "    ax.set_ylabel('Altitude (m)')\n",
    "    ax.set_title('Predicted Trajectory')\n",
    "    st.pyplot(fig)"
   ]
  },
  {
   "cell_type": "code",
   "execution_count": 13,
   "id": "e5ee8cab",
   "metadata": {},
   "outputs": [],
   "source": [
    "if st.button('Predict Flight Profile'):\n",
    "    predict()"
   ]
  }
 ],
 "metadata": {
  "kernelspec": {
   "display_name": "Python 3",
   "language": "python",
   "name": "python3"
  },
  "language_info": {
   "codemirror_mode": {
    "name": "ipython",
    "version": 3
   },
   "file_extension": ".py",
   "mimetype": "text/x-python",
   "name": "python",
   "nbconvert_exporter": "python",
   "pygments_lexer": "ipython3",
   "version": "3.10.2"
  }
 },
 "nbformat": 4,
 "nbformat_minor": 5
}
